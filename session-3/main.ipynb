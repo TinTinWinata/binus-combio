{
 "cells": [
  {
   "cell_type": "code",
   "execution_count": 1,
   "metadata": {},
   "outputs": [],
   "source": [
    "# Import\n",
    "import Bio\n",
    "from Bio.Seq import Seq "
   ]
  },
  {
   "cell_type": "code",
   "execution_count": 6,
   "metadata": {},
   "outputs": [
    {
     "name": "stdout",
     "output_type": "stream",
     "text": [
      "Template Strand : CGATGCTAGCTAGCTAGGTA\n"
     ]
    }
   ],
   "source": [
    "# Template Strands\n",
    "template_strand = Seq('CGATGCTAGCTAGCTAGGTA')\n",
    "print(f'Template Strand : {template_strand}')"
   ]
  },
  {
   "cell_type": "code",
   "execution_count": 7,
   "metadata": {},
   "outputs": [
    {
     "name": "stdout",
     "output_type": "stream",
     "text": [
      "Coding Strand : GCTACGATCGATCGATCCAT\n"
     ]
    }
   ],
   "source": [
    "# Find the DNA Sequence Complement\n",
    "# .complement -> Changing from template_strand to coding_strand \n",
    "\n",
    "# Note : C - G (3 Hydrogen Bonds) | A - T (2 Hydrogen Bonds) [DNA]\n",
    "# Note : C - G (3 Hydrogen Bonds) | A - U (2 Hydrogen Bonds) [RNA]\n",
    "\n",
    "coding_strand = template_strand.complement()\n",
    "print(f'Coding Strand : {coding_strand}')\n"
   ]
  },
  {
   "cell_type": "code",
   "execution_count": 11,
   "metadata": {},
   "outputs": [
    {
     "name": "stdout",
     "output_type": "stream",
     "text": [
      "Reverse Coding Strand : TACCTAGCTAGCTAGCATCG\n",
      "Reverse Coding Strand With Method : TACCTAGCTAGCTAGCATCG\n"
     ]
    }
   ],
   "source": [
    "# Find DNA Sequence Complement in Reverse \n",
    "reverse_coding_strand = coding_strand[::-1]\n",
    "print(f'Reverse Coding Strand : {reverse_coding_strand}')\n",
    "\n",
    "# With Method\n",
    "reverse_coding_strand = template_strand.reverse_complement()\n",
    "print(f'Reverse Coding Strand With Method : {reverse_coding_strand}')"
   ]
  },
  {
   "cell_type": "code",
   "execution_count": 14,
   "metadata": {},
   "outputs": [
    {
     "name": "stdout",
     "output_type": "stream",
     "text": [
      "Custom template strand : ATCGA\n"
     ]
    }
   ],
   "source": [
    "# Custom function to find the DNA Sequence Complement\n",
    "custom_template_strand = template_strand.complement()[10:15:]\n",
    "print(f'Custom template strand : {custom_template_strand}')"
   ]
  },
  {
   "cell_type": "code",
   "execution_count": 16,
   "metadata": {},
   "outputs": [
    {
     "name": "stdout",
     "output_type": "stream",
     "text": [
      "DNA Sequence : CGATTTAGCGATCGATCGA\n",
      "RNA Sequence : CGAUUUAGCGAUCGAUCGA\n"
     ]
    }
   ],
   "source": [
    "# Transcription : DNA -> RNA\n",
    "DNA = Seq('CGATTTAGCGATCGATCGA')\n",
    "print(f'DNA Sequence : {DNA}')\n",
    "\n",
    "RNA = DNA.transcribe()\n",
    "print(f'RNA Sequence : {RNA}')"
   ]
  },
  {
   "cell_type": "code",
   "execution_count": 28,
   "metadata": {},
   "outputs": [
    {
     "name": "stdout",
     "output_type": "stream",
     "text": [
      "Method (1) Protein : RYRSIDN\n",
      "Method (2) Protein : RYRSIDN\n"
     ]
    }
   ],
   "source": [
    "# Translation : (DNA -> RNA -> Protein)\n",
    "\n",
    "# Method 1  \n",
    "DNA = Seq('CGATATCGATCGATCGATAAC')\n",
    "RNA = DNA.transcribe()\n",
    "protein = RNA.translate()\n",
    "print(f'Method (1) Protein : {protein}') \n",
    "\n",
    "# Method 2 -> Direct Translation from (DNA -> Protein)\n",
    "protein = DNA.translate()\n",
    "print(f'Method (2) Protein : {protein}')"
   ]
  },
  {
   "cell_type": "code",
   "execution_count": 20,
   "metadata": {},
   "outputs": [
    {
     "name": "stdout",
     "output_type": "stream",
     "text": [
      "RNA Sequence : CGAUCGUGUACGCGAU\n",
      "DNA Sequence : CGATCGTGTACGCGAT\n"
     ]
    }
   ],
   "source": [
    "# Back Transcription : RNA -> DNA\n",
    "\n",
    "RNA = Seq(\"CGAUCGUGUACGCGAU\")\n",
    "DNA = RNA.back_transcribe()\n",
    "\n",
    "print(f\"RNA Sequence : {RNA}\")\n",
    "print(f\"DNA Sequence : {DNA}\")"
   ]
  },
  {
   "cell_type": "code",
   "execution_count": 23,
   "metadata": {},
   "outputs": [
    {
     "name": "stdout",
     "output_type": "stream",
     "text": [
      "DNA : CGATCGATCGATGCGAT\n",
      "Protein : RSIDA\n",
      "Protein Name : ArgSerIleAspAla\n"
     ]
    }
   ],
   "source": [
    "# Convert Protein -> 3 Codon Letter\n",
    "\n",
    "from Bio.SeqUtils import seq3\n",
    "\n",
    "DNA = Seq('CGATCGATCGATGCGAT')\n",
    "protein = DNA.translate()\n",
    "protein_name = seq3(protein)\n",
    "\n",
    "print(f'DNA : {DNA}')\n",
    "print(f'Protein : {protein}')\n",
    "print(f'Protein Name : {protein_name}')"
   ]
  },
  {
   "cell_type": "code",
   "execution_count": 26,
   "metadata": {},
   "outputs": [
    {
     "name": "stdout",
     "output_type": "stream",
     "text": [
      "Protein : RSIDA\n",
      "Example Protein : MIS*\n"
     ]
    }
   ],
   "source": [
    "# Convert Protein 3 Codon Letter to 1 Codon Letter\n",
    "from Bio.SeqUtils import seq1\n",
    "\n",
    "protein = seq1(protein_name)\n",
    "print(f'Protein : {protein}')\n",
    "\n",
    "# Example of stop codon\n",
    "\n",
    "# Seq 3  = Met Ile Ser Ter (Ter is not protein but it's stop codon)\n",
    "# Ter = Terminate\n",
    "\n",
    "example_protein = Seq('MetIleSerTer')\n",
    "protein = seq1(example_protein)\n",
    "print(f'Example Protein : {protein}')"
   ]
  },
  {
   "cell_type": "code",
   "execution_count": 1,
   "metadata": {},
   "outputs": [
    {
     "name": "stdout",
     "output_type": "stream",
     "text": [
      "Table 1 Standard, SGC0\n",
      "\n",
      "  |  T      |  C      |  A      |  G      |\n",
      "--+---------+---------+---------+---------+--\n",
      "T | TTT F   | TCT S   | TAT Y   | TGT C   | T\n",
      "T | TTC F   | TCC S   | TAC Y   | TGC C   | C\n",
      "T | TTA L   | TCA S   | TAA Stop| TGA Stop| A\n",
      "T | TTG L(s)| TCG S   | TAG Stop| TGG W   | G\n",
      "--+---------+---------+---------+---------+--\n",
      "C | CTT L   | CCT P   | CAT H   | CGT R   | T\n",
      "C | CTC L   | CCC P   | CAC H   | CGC R   | C\n",
      "C | CTA L   | CCA P   | CAA Q   | CGA R   | A\n",
      "C | CTG L(s)| CCG P   | CAG Q   | CGG R   | G\n",
      "--+---------+---------+---------+---------+--\n",
      "A | ATT I   | ACT T   | AAT N   | AGT S   | T\n",
      "A | ATC I   | ACC T   | AAC N   | AGC S   | C\n",
      "A | ATA I   | ACA T   | AAA K   | AGA R   | A\n",
      "A | ATG M(s)| ACG T   | AAG K   | AGG R   | G\n",
      "--+---------+---------+---------+---------+--\n",
      "G | GTT V   | GCT A   | GAT D   | GGT G   | T\n",
      "G | GTC V   | GCC A   | GAC D   | GGC G   | C\n",
      "G | GTA V   | GCA A   | GAA E   | GGA G   | A\n",
      "G | GTG V   | GCG A   | GAG E   | GGG G   | G\n",
      "--+---------+---------+---------+---------+--\n"
     ]
    }
   ],
   "source": [
    "# Show DNA Table Codon\n",
    "\n",
    "from Bio.Data import CodonTable \n",
    "\n",
    "table_dna = CodonTable.unambiguous_dna_by_name['Standard']\n",
    "print(table_dna)"
   ]
  },
  {
   "cell_type": "code",
   "execution_count": 2,
   "metadata": {},
   "outputs": [
    {
     "name": "stdout",
     "output_type": "stream",
     "text": [
      "Table 1 Standard, SGC0\n",
      "\n",
      "  |  U      |  C      |  A      |  G      |\n",
      "--+---------+---------+---------+---------+--\n",
      "U | UUU F   | UCU S   | UAU Y   | UGU C   | U\n",
      "U | UUC F   | UCC S   | UAC Y   | UGC C   | C\n",
      "U | UUA L   | UCA S   | UAA Stop| UGA Stop| A\n",
      "U | UUG L(s)| UCG S   | UAG Stop| UGG W   | G\n",
      "--+---------+---------+---------+---------+--\n",
      "C | CUU L   | CCU P   | CAU H   | CGU R   | U\n",
      "C | CUC L   | CCC P   | CAC H   | CGC R   | C\n",
      "C | CUA L   | CCA P   | CAA Q   | CGA R   | A\n",
      "C | CUG L(s)| CCG P   | CAG Q   | CGG R   | G\n",
      "--+---------+---------+---------+---------+--\n",
      "A | AUU I   | ACU T   | AAU N   | AGU S   | U\n",
      "A | AUC I   | ACC T   | AAC N   | AGC S   | C\n",
      "A | AUA I   | ACA T   | AAA K   | AGA R   | A\n",
      "A | AUG M(s)| ACG T   | AAG K   | AGG R   | G\n",
      "--+---------+---------+---------+---------+--\n",
      "G | GUU V   | GCU A   | GAU D   | GGU G   | U\n",
      "G | GUC V   | GCC A   | GAC D   | GGC G   | C\n",
      "G | GUA V   | GCA A   | GAA E   | GGA G   | A\n",
      "G | GUG V   | GCG A   | GAG E   | GGG G   | G\n",
      "--+---------+---------+---------+---------+--\n"
     ]
    }
   ],
   "source": [
    "# Show DNA Table Codon\n",
    "\n",
    "from Bio.Data import CodonTable \n",
    "\n",
    "table_rna = CodonTable.unambiguous_rna_by_name['Standard']\n",
    "print(table_rna)"
   ]
  },
  {
   "cell_type": "code",
   "execution_count": 4,
   "metadata": {},
   "outputs": [
    {
     "data": {
      "application/3dmoljs_load.v0": "<div id=\"3dmolviewer_16858805246132727\"  style=\"position: relative; width: 640px; height: 480px;\">\n        <p id=\"3dmolwarning_16858805246132727\" style=\"background-color:#ffcccc;color:black\">You appear to be running in JupyterLab (or JavaScript failed to load for some other reason).  You need to install the 3dmol extension: <br>\n        <tt>jupyter labextension install jupyterlab_3dmol</tt></p>\n        </div>\n<script>\n\nvar loadScriptAsync = function(uri){\n  return new Promise((resolve, reject) => {\n    //this is to ignore the existence of requirejs amd\n    var savedexports, savedmodule;\n    if (typeof exports !== 'undefined') savedexports = exports;\n    else exports = {}\n    if (typeof module !== 'undefined') savedmodule = module;\n    else module = {}\n\n    var tag = document.createElement('script');\n    tag.src = uri;\n    tag.async = true;\n    tag.onload = () => {\n        exports = savedexports;\n        module = savedmodule;\n        resolve();\n    };\n  var firstScriptTag = document.getElementsByTagName('script')[0];\n  firstScriptTag.parentNode.insertBefore(tag, firstScriptTag);\n});\n};\n\nif(typeof $3Dmolpromise === 'undefined') {\n$3Dmolpromise = null;\n  $3Dmolpromise = loadScriptAsync('https://cdnjs.cloudflare.com/ajax/libs/3Dmol/2.0.3/3Dmol-min.js');\n}\n\nvar viewer_16858805246132727 = null;\nvar warn = document.getElementById(\"3dmolwarning_16858805246132727\");\nif(warn) {\n    warn.parentNode.removeChild(warn);\n}\n$3Dmolpromise.then(function() {\nviewer_16858805246132727 = $3Dmol.createViewer(document.getElementById(\"3dmolviewer_16858805246132727\"),{backgroundColor:\"white\"});\n$3Dmol.download(\"pdb:6LU8\", viewer_16858805246132727, {}, function() {\nviewer_16858805246132727.zoomTo();\n\tviewer_16858805246132727.setStyle({\"cartoon\": {\"color\": \"spectrum\"}});\nviewer_16858805246132727.render();\n})\n});\n</script>",
      "text/html": [
       "<div id=\"3dmolviewer_16858805246132727\"  style=\"position: relative; width: 640px; height: 480px;\">\n",
       "        <p id=\"3dmolwarning_16858805246132727\" style=\"background-color:#ffcccc;color:black\">You appear to be running in JupyterLab (or JavaScript failed to load for some other reason).  You need to install the 3dmol extension: <br>\n",
       "        <tt>jupyter labextension install jupyterlab_3dmol</tt></p>\n",
       "        </div>\n",
       "<script>\n",
       "\n",
       "var loadScriptAsync = function(uri){\n",
       "  return new Promise((resolve, reject) => {\n",
       "    //this is to ignore the existence of requirejs amd\n",
       "    var savedexports, savedmodule;\n",
       "    if (typeof exports !== 'undefined') savedexports = exports;\n",
       "    else exports = {}\n",
       "    if (typeof module !== 'undefined') savedmodule = module;\n",
       "    else module = {}\n",
       "\n",
       "    var tag = document.createElement('script');\n",
       "    tag.src = uri;\n",
       "    tag.async = true;\n",
       "    tag.onload = () => {\n",
       "        exports = savedexports;\n",
       "        module = savedmodule;\n",
       "        resolve();\n",
       "    };\n",
       "  var firstScriptTag = document.getElementsByTagName('script')[0];\n",
       "  firstScriptTag.parentNode.insertBefore(tag, firstScriptTag);\n",
       "});\n",
       "};\n",
       "\n",
       "if(typeof $3Dmolpromise === 'undefined') {\n",
       "$3Dmolpromise = null;\n",
       "  $3Dmolpromise = loadScriptAsync('https://cdnjs.cloudflare.com/ajax/libs/3Dmol/2.0.3/3Dmol-min.js');\n",
       "}\n",
       "\n",
       "var viewer_16858805246132727 = null;\n",
       "var warn = document.getElementById(\"3dmolwarning_16858805246132727\");\n",
       "if(warn) {\n",
       "    warn.parentNode.removeChild(warn);\n",
       "}\n",
       "$3Dmolpromise.then(function() {\n",
       "viewer_16858805246132727 = $3Dmol.createViewer(document.getElementById(\"3dmolviewer_16858805246132727\"),{backgroundColor:\"white\"});\n",
       "$3Dmol.download(\"pdb:6LU8\", viewer_16858805246132727, {}, function() {\n",
       "viewer_16858805246132727.zoomTo();\n",
       "\tviewer_16858805246132727.setStyle({\"cartoon\": {\"color\": \"spectrum\"}});\n",
       "viewer_16858805246132727.render();\n",
       "})\n",
       "});\n",
       "</script>"
      ]
     },
     "metadata": {},
     "output_type": "display_data"
    }
   ],
   "source": [
    "# 3D Structure of Proteins\n",
    "\n",
    "import py3Dmol\n",
    "view = py3Dmol.view(query='pdb:6LU8')\n",
    "view.setStyle({'cartoon': {'color': 'spectrum'}})\n",
    "view.show()"
   ]
  },
  {
   "cell_type": "code",
   "execution_count": null,
   "metadata": {},
   "outputs": [],
   "source": []
  }
 ],
 "metadata": {
  "kernelspec": {
   "display_name": "Python 3",
   "language": "python",
   "name": "python3"
  },
  "language_info": {
   "codemirror_mode": {
    "name": "ipython",
    "version": 3
   },
   "file_extension": ".py",
   "mimetype": "text/x-python",
   "name": "python",
   "nbconvert_exporter": "python",
   "pygments_lexer": "ipython3",
   "version": "3.10.4"
  },
  "orig_nbformat": 4
 },
 "nbformat": 4,
 "nbformat_minor": 2
}
