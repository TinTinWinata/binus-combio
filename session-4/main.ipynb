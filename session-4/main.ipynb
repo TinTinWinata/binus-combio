{
 "cells": [
  {
   "cell_type": "code",
   "execution_count": 48,
   "metadata": {},
   "outputs": [],
   "source": [
    "import Bio\n",
    "from Bio.SeqUtils import Seq\n",
    "import matplotlib.pyplot as plt\n",
    "import numpy as np"
   ]
  },
  {
   "attachments": {},
   "cell_type": "markdown",
   "metadata": {},
   "source": [
    "Theory Bases : \n",
    "\n",
    "global alignment and local alignment are two types of sequence alignment. Global alignment finds the best possible alignment between two sequences, regardless of their lengths. Local alignment finds the best possible alignment between two sequences, but only within a specified region of each sequence.\n",
    "\n",
    "Global alignment is typically used when the sequences to be aligned are of similar lengths. This is because global alignment algorithms try to find the best possible alignment between the two sequences, even if it means introducing gaps into one or both sequences. Gaps are inserted into sequences to account for differences in the sequences. For example, if one sequence has 10 bases and the other sequence has 12 bases, a global alignment algorithm might insert two gaps into the shorter sequence to create an alignment of 12 bases.\n",
    "\n",
    "Local alignment is typically used when the sequences to be aligned are of different lengths. This is because local alignment algorithms only try to find the best possible alignment between the two sequences within a specified region of each sequence. This can be useful for finding regions of similarity between two sequences that are not of similar lengths."
   ]
  },
  {
   "cell_type": "code",
   "execution_count": 2,
   "metadata": {},
   "outputs": [],
   "source": [
    "MAIN_SEQ = Seq('CGATCGTGTATA')\n",
    "SECOND_SEQ = Seq('ATCGT')\n",
    "THIRD_SEQ = Seq('CGGTAGCTGATC')"
   ]
  },
  {
   "cell_type": "code",
   "execution_count": 18,
   "metadata": {},
   "outputs": [],
   "source": [
    "# Alignment\n",
    "# pairwise2\n",
    "\n",
    "from Bio import pairwise2\n",
    "from Bio.pairwise2 import format_alignment"
   ]
  },
  {
   "cell_type": "code",
   "execution_count": 21,
   "metadata": {},
   "outputs": [
    {
     "name": "stdout",
     "output_type": "stream",
     "text": [
      "Global Alignment : [Alignment(seqA='CGATCGTGTATA', seqB='--ATC--G--T-', score=5.0, start=0, end=12), Alignment(seqA='CGATCGTGTATA', seqB='--ATCG----T-', score=5.0, start=0, end=12), Alignment(seqA='CGATCGTGTATA', seqB='--ATC--GT---', score=5.0, start=0, end=12), Alignment(seqA='CGATCGTGTATA', seqB='--ATCG--T---', score=5.0, start=0, end=12), Alignment(seqA='CGATCGTGTATA', seqB='--ATCGT-----', score=5.0, start=0, end=12)]\n",
      "CGATCGTGTATA\n",
      "  |||  |  | \n",
      "--ATC--G--T-\n",
      "  Score=5\n",
      "\n",
      "CGATCGTGTATA\n",
      "  ||||    | \n",
      "--ATCG----T-\n",
      "  Score=5\n",
      "\n",
      "CGATCGTGTATA\n",
      "  |||  ||   \n",
      "--ATC--GT---\n",
      "  Score=5\n",
      "\n",
      "CGATCGTGTATA\n",
      "  ||||  |   \n",
      "--ATCG--T---\n",
      "  Score=5\n",
      "\n",
      "CGATCGTGTATA\n",
      "  |||||     \n",
      "--ATCGT-----\n",
      "  Score=5\n",
      "\n"
     ]
    }
   ],
   "source": [
    "# Global Alignment\n",
    "global_align = pairwise2.align.globalxx(MAIN_SEQ, SECOND_SEQ)\n",
    "print(f'Global Alignment : {global_align}')\n",
    "\n",
    "for temp in global_align:\n",
    "    # print(f'Temp : {temp}')\n",
    "    formatted_alignment = format_alignment(*temp)\n",
    "    print(formatted_alignment)"
   ]
  },
  {
   "cell_type": "code",
   "execution_count": 20,
   "metadata": {},
   "outputs": [
    {
     "name": "stdout",
     "output_type": "stream",
     "text": [
      "3 ATCGTGTAT\n",
      "  |||  |  |\n",
      "1 ATC--G--T\n",
      "  Score=5\n",
      "\n",
      "3 ATCGTGTAT\n",
      "  ||||    |\n",
      "1 ATCG----T\n",
      "  Score=5\n",
      "\n",
      "3 ATCGTGT\n",
      "  |||  ||\n",
      "1 ATC--GT\n",
      "  Score=5\n",
      "\n",
      "3 ATCGTGT\n",
      "  ||||  |\n",
      "1 ATCG--T\n",
      "  Score=5\n",
      "\n",
      "3 ATCGT\n",
      "  |||||\n",
      "1 ATCGT\n",
      "  Score=5\n",
      "\n"
     ]
    }
   ],
   "source": [
    "# Local allignment\n",
    "local_allignment = pairwise2.align.localxx(MAIN_SEQ, SECOND_SEQ)\n",
    "for temp in local_allignment:\n",
    "  print(format_alignment(*temp))\n",
    "\n"
   ]
  },
  {
   "cell_type": "code",
   "execution_count": 28,
   "metadata": {},
   "outputs": [
    {
     "name": "stdout",
     "output_type": "stream",
     "text": [
      "Global Score : 8.0\n",
      "Third Sequence - Main Sequence [Similiarity] :  66.66666666666666\n"
     ]
    }
   ],
   "source": [
    "# Simalirity using alignment\n",
    "\n",
    "global_score = pairwise2.align.globalxx(MAIN_SEQ, THIRD_SEQ, one_alignment_only = True, score_only = True)\n",
    "print(f'Global Score : {global_score}')\n",
    "\n",
    "similarity = global_score / len(MAIN_SEQ) * 100\n",
    "print(f'Third Sequence - Main Sequence [Similiarity] :  {similarity}')"
   ]
  },
  {
   "cell_type": "code",
   "execution_count": 38,
   "metadata": {},
   "outputs": [
    {
     "name": "stdout",
     "output_type": "stream",
     "text": [
      "CGATCGT-G-T-ATA-\n",
      "||   || | | ||  \n",
      "CG---GTAGCTGAT-C\n",
      "  Score=12.8\n",
      "\n",
      "CG--ATCG-TGTATA-\n",
      "||  |  | || ||  \n",
      "CGGTA--GCTG-AT-C\n",
      "  Score=12.8\n",
      "\n",
      "CGATCGT-G-T-ATA\n",
      "||   || | | ||.\n",
      "CG---GTAGCTGATC\n",
      "  Score=12.8\n",
      "\n",
      "CG--ATCG-TGTATA\n",
      "||  |  | || ||.\n",
      "CGGTA--GCTG-ATC\n",
      "  Score=12.8\n",
      "\n"
     ]
    }
   ],
   "source": [
    "# Example Global Alignment Cases : \n",
    "# Find out all the possible global alignments with the maximum similarity score\n",
    "# Maching characters : 2 points\n",
    "# Each mismatching character: -1 point\n",
    "# 0.5 points are deducted when opening a gap\n",
    "# 0.1 points are deducted when extending it\n",
    "\n",
    "allignments = pairwise2.align.globalms(MAIN_SEQ, THIRD_SEQ, 2, -1, -0.5, -0.1)\n",
    "for allignment in allignments:\n",
    "    print(format_alignment(*allignment))"
   ]
  },
  {
   "cell_type": "code",
   "execution_count": 47,
   "metadata": {},
   "outputs": [
    {
     "name": "stdout",
     "output_type": "stream",
     "text": [
      "Main Sequence : CGATCGTGTATA\n",
      "Third Sequence : CGGTAGCTGATC\n",
      "Hamming Distace [Main Sequence - Third Sequence] : 6\n"
     ]
    }
   ],
   "source": [
    "# Hamming Distance -> Effort that's needed to make first sequence and second sequence is same\n",
    "\n",
    "def hamming_distance(input1, input2):\n",
    "    res = [(x, y) for x, y in zip(input1, input2) if x != y]\n",
    "    return len(res)\n",
    "\n",
    "res = hamming_distance(MAIN_SEQ, THIRD_SEQ)\n",
    "print(f'Main Sequence : {MAIN_SEQ}')\n",
    "print(f'Third Sequence : {THIRD_SEQ}')\n",
    "print(f'Hamming Distace [Main Sequence - Third Sequence] : {res}')"
   ]
  },
  {
   "cell_type": "code",
   "execution_count": 45,
   "metadata": {},
   "outputs": [
    {
     "name": "stdout",
     "output_type": "stream",
     "text": [
      "Main Sequence : CGATCGTGTATA\n",
      "Second Sequence : ATCGT\n",
      "Distance : 7\n"
     ]
    }
   ],
   "source": [
    "# Levenshtein Distance\n",
    "\n",
    "from Levenshtein import distance\n",
    "\n",
    "print(f'Main Sequence : {MAIN_SEQ}')\n",
    "print(f'Second Sequence : {SECOND_SEQ}')\n",
    "print(f'Distance : {distance(MAIN_SEQ, SECOND_SEQ)}')"
   ]
  },
  {
   "cell_type": "code",
   "execution_count": 60,
   "metadata": {},
   "outputs": [],
   "source": [
    "# Dot Plot (Short Version)\n",
    "\n",
    "def delta(x, y):\n",
    "  return 0 if x == y else 1\n",
    "\n",
    "def make_matrix(input1, input2):\n",
    "  m = len(input1)\n",
    "  n = len(input2)\n",
    "  output = [[delta(input1[i], input2[j]) for j in range(n)] for i in range (m)]\n",
    "  return output\n",
    "\n",
    "matrix = make_matrix(MAIN_SEQ, THIRD_SEQ)"
   ]
  },
  {
   "cell_type": "code",
   "execution_count": 68,
   "metadata": {},
   "outputs": [
    {
     "data": {
      "image/png": "[encoded data removed]",
      "text/plain": [
       "<Figure size 640x480 with 1 Axes>"
      ]
     },
     "metadata": {},
     "output_type": "display_data"
    }
   ],
   "source": [
    "# Plotting the Dot Plot\n",
    "plt.imshow(np.array(matrix))\n",
    "plt.xticks(np.arange(len(THIRD_SEQ)), list(THIRD_SEQ))\n",
    "plt.yticks(np.arange(len(MAIN_SEQ)), list(MAIN_SEQ))\n",
    "plt.show()"
   ]
  }
 ],
 "metadata": {
  "kernelspec": {
   "display_name": "Python 3",
   "language": "python",
   "name": "python3"
  },
  "language_info": {
   "codemirror_mode": {
    "name": "ipython",
    "version": 3
   },
   "file_extension": ".py",
   "mimetype": "text/x-python",
   "name": "python",
   "nbconvert_exporter": "python",
   "pygments_lexer": "ipython3",
   "version": "3.10.4"
  },
  "orig_nbformat": 4
 },
 "nbformat": 4,
 "nbformat_minor": 2
}
