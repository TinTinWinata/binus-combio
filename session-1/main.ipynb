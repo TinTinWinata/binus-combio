{
 "cells": [
  {
   "cell_type": "code",
   "execution_count": 2,
   "metadata": {},
   "outputs": [],
   "source": [
    "from Bio.Seq import Seq"
   ]
  },
  {
   "attachments": {},
   "cell_type": "markdown",
   "metadata": {},
   "source": [
    "Simple Theory : \n",
    "\n",
    "1. CGAT is a DNA sequence that consists of the four nucleotides cytosine, guanine, adenine, and thymine. The sequence is read from left to right, and each letter represents a different nucleotide. Adenine (A) always pairs with thymine (T), and cytosine (C) always pairs with guanine (G). This is known as the complementary base pairing rule.\n",
    "\n",
    "2. A nucleotide is a molecule that consists of a nitrogenous base, a sugar, and a phosphate group. Nucleotides are the building blocks of nucleic acids, such as DNA and RNA. The sequence of nucleotides in a nucleic acid molecule determines the genetic information that is stored in that molecule."
   ]
  },
  {
   "cell_type": "code",
   "execution_count": 3,
   "metadata": {},
   "outputs": [
    {
     "name": "stdout",
     "output_type": "stream",
     "text": [
      "CGATCGATCCGATCGAT\n"
     ]
    }
   ],
   "source": [
    "# DNA Sequences\n",
    "\n",
    "DNA_JC = Seq(\"CGATCGATCCGATCGAT\") # Kombinasi untuk DNA (CGAT)\n",
    "print(DNA_JC)"
   ]
  },
  {
   "cell_type": "code",
   "execution_count": 4,
   "metadata": {},
   "outputs": [
    {
     "name": "stdout",
     "output_type": "stream",
     "text": [
      "CGAUCUGGUACGAU\n"
     ]
    }
   ],
   "source": [
    "# RNA Sequences\n",
    "RNA_JC = Seq(\"CGAUCUGGUACGAU\") # Kombinasi untuk RNA (CGAU) \n",
    "print(RNA_JC)"
   ]
  },
  {
   "cell_type": "code",
   "execution_count": 5,
   "metadata": {},
   "outputs": [
    {
     "name": "stdout",
     "output_type": "stream",
     "text": [
      "DNA JC : 17 | RNA JC : 14\n"
     ]
    }
   ],
   "source": [
    "# Length of Sequences\n",
    "DNA_JC_LENGTH = len(DNA_JC)\n",
    "RNA_JC_LENGTH = len(RNA_JC)\n",
    "print(f'DNA JC : {DNA_JC_LENGTH} | RNA JC : {RNA_JC_LENGTH}')"
   ]
  },
  {
   "cell_type": "code",
   "execution_count": 12,
   "metadata": {},
   "outputs": [
    {
     "name": "stdout",
     "output_type": "stream",
     "text": [
      "Position [0, 3] : CGA\n"
     ]
    }
   ],
   "source": [
    "# Slicing of sequences\n",
    "\n",
    "#  Array[Start:End:Lompatan]\n",
    "\n",
    "start = 0\n",
    "end = 3\n",
    "lompatan = 1\n",
    "print(f\"Position [{start}, {end}] : {DNA_JC[start:end:lompatan]}\")"
   ]
  },
  {
   "cell_type": "code",
   "execution_count": 14,
   "metadata": {},
   "outputs": [
    {
     "name": "stdout",
     "output_type": "stream",
     "text": [
      "Reverse Print : TAGCTAGCCTAGCTAGC\n"
     ]
    }
   ],
   "source": [
    "# Reverse Print\n",
    "print('Reverse Print :', DNA_JC[::-1])"
   ]
  },
  {
   "cell_type": "code",
   "execution_count": 17,
   "metadata": {},
   "outputs": [
    {
     "name": "stdout",
     "output_type": "stream",
     "text": [
      "Joinned DNA : CGATCGATCCGATCGATCGATCGATCGGATCGATCGAT\n",
      "Joinned DNA (Sliced) : CGACGA\n"
     ]
    }
   ],
   "source": [
    "# Join Two Sequence Differently\n",
    "\n",
    "DNA_JT = Seq(\"CGATCGATCGGATCGATCGAT\") # Second DNA\n",
    "DNA_JT_JC = DNA_JC + DNA_JT\n",
    "print(f'Joinned DNA : {DNA_JT_JC}')\n",
    "\n",
    "# Join With Slicing\n",
    "DNA_JT_JC_SLICE = DNA_JC[0:3] + DNA_JT[0:3]\n",
    "print(f'Joinned DNA (Sliced) : {DNA_JT_JC_SLICE}')"
   ]
  },
  {
   "cell_type": "code",
   "execution_count": 21,
   "metadata": {},
   "outputs": [
    {
     "name": "stdout",
     "output_type": "stream",
     "text": [
      "Neuclotide (C) :  5\n"
     ]
    }
   ],
   "source": [
    "# Find the number of Neuclotides / Base within our sequence\n",
    "C_NEUCLOTIDE_IN_DNA_JT = DNA_JT.count(\"C\") # Case Sensitive\n",
    "print('Neuclotide (C) : ', C_NEUCLOTIDE_IN_DNA_JT)"
   ]
  },
  {
   "cell_type": "code",
   "execution_count": 37,
   "metadata": {},
   "outputs": [
    {
     "name": "stdout",
     "output_type": "stream",
     "text": [
      "DNA Sequence :  CGATCGATCCGATCGAT\n",
      "G Neuclotides Index : 1\n",
      "G Neuclotides Index from right :  14\n",
      "G Neuclotides Index start at 3 :  5\n"
     ]
    }
   ],
   "source": [
    "# Find Location \n",
    "# .find -> if not found will return -1\n",
    "# .index -> if not found will return error\n",
    "\n",
    "print('DNA Sequence : ', DNA_JC)\n",
    "\n",
    "neuclotide_to_find = 'G'\n",
    "find = DNA_JC.find(neuclotide_to_find)\n",
    "print(f'{neuclotide_to_find} Neuclotides Index : {find}')\n",
    "\n",
    "# Find from right\n",
    "find_r = DNA_JC.rfind(neuclotide_to_find)\n",
    "print(f'{neuclotide_to_find} Neuclotides Index from right :  {find_r}')\n",
    "\n",
    "# Find from custom starting point\n",
    "start = 3\n",
    "find_point = DNA_JC.find(neuclotide_to_find, start)\n",
    "print(f'{neuclotide_to_find} Neuclotides Index start at {start} :  {find_point}')"
   ]
  },
  {
   "cell_type": "code",
   "execution_count": 43,
   "metadata": {},
   "outputs": [],
   "source": [
    "# Sub Sequences\n",
    "from Bio.SeqUtils import nt_search"
   ]
  },
  {
   "cell_type": "code",
   "execution_count": 44,
   "metadata": {},
   "outputs": [],
   "source": [
    "# Create main sequence and sub sequences\n",
    "\n",
    "MAIN_SEQ = Seq('CGATGCGCGATTTAGAGCGGTCCGATGCGAT')\n",
    "SUB_SEQ = Seq('CGAT')"
   ]
  },
  {
   "cell_type": "code",
   "execution_count": 53,
   "metadata": {},
   "outputs": [
    {
     "name": "stdout",
     "output_type": "stream",
     "text": [
      "Search : ['CGAT', 0, 7, 22, 27]\n"
     ]
    }
   ],
   "source": [
    "# Find sub sequence from main sequence\n",
    "search = nt_search(str(MAIN_SEQ), str(SUB_SEQ)) # returning a list of searched index \n",
    "print(f'Search : {search}')"
   ]
  },
  {
   "cell_type": "code",
   "execution_count": 54,
   "metadata": {},
   "outputs": [],
   "source": [
    "# Visualization\n",
    "import matplotlib.pyplot as plt\n",
    "from collections import Counter"
   ]
  },
  {
   "cell_type": "code",
   "execution_count": 58,
   "metadata": {},
   "outputs": [
    {
     "name": "stdout",
     "output_type": "stream",
     "text": [
      "Main keys :  dict_keys(['C', 'G', 'A', 'T'])\n",
      "Main values :  dict_values([12, 18, 13, 12])\n"
     ]
    }
   ],
   "source": [
    "main_seq = Seq(\"CGATTCTCGAGAGACTGACGTACGGTATCGATGCAGATGCGGATGCGATGCCGAT\")\n",
    "dna_freq = Counter(main_seq)\n",
    "\n",
    "dna_key = dna_freq.keys()\n",
    "dna_value = dna_freq.values()\n",
    "\n",
    "print('Main keys : ', dna_key)\n",
    "print('Main values : ', dna_value)"
   ]
  },
  {
   "cell_type": "code",
   "execution_count": 61,
   "metadata": {},
   "outputs": [
    {
     "data": {
      "image/png": "[encoded data removed]",
      "text/plain": [
       "<Figure size 640x480 with 1 Axes>"
      ]
     },
     "metadata": {},
     "output_type": "display_data"
    }
   ],
   "source": [
    "# Plotting\n",
    "plt.bar(dna_key, dna_value)\n",
    "plt.title('Neuclotides in Main DNA')\n",
    "plt.show()"
   ]
  }
 ],
 "metadata": {
  "kernelspec": {
   "display_name": "Python 3",
   "language": "python",
   "name": "python3"
  },
  "language_info": {
   "codemirror_mode": {
    "name": "ipython",
    "version": 3
   },
   "file_extension": ".py",
   "mimetype": "text/x-python",
   "name": "python",
   "nbconvert_exporter": "python",
   "pygments_lexer": "ipython3",
   "version": "3.10.4"
  },
  "orig_nbformat": 4
 },
 "nbformat": 4,
 "nbformat_minor": 2
}
