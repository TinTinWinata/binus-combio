{
 "cells": [
  {
   "cell_type": "code",
   "execution_count": 1,
   "metadata": {},
   "outputs": [],
   "source": [
    "from Bio.Seq import Seq"
   ]
  },
  {
   "cell_type": "code",
   "execution_count": 4,
   "metadata": {},
   "outputs": [],
   "source": [
    "MAIN_SEQ = Seq('CGATCGATCCCGATCAGTAGGATCGAT')"
   ]
  },
  {
   "attachments": {},
   "cell_type": "markdown",
   "metadata": {},
   "source": [
    "Base Theory : \n",
    "\n",
    "GC content, or guanine-cytosine content, is the percentage of guanine (G) and cytosine (C) bases in a DNA or RNA molecule. The remaining bases are adenine (A) and thymine (T) in DNA, and adenine (A) and uracil (U) in RNA.\n",
    "\n",
    "GC content is important because it can affect the stability of DNA and RNA, the folding of proteins, and the ability of DNA to be transcribed into RNA.\n",
    "\n",
    "\n",
    "In biology, the melting point (Tm) of DNA or RNA is the temperature at which the double-stranded molecule separates into two single-stranded molecules. The Tm is determined by the length of the molecule, the composition of the bases, and the concentration of ions in the solution."
   ]
  },
  {
   "cell_type": "code",
   "execution_count": 12,
   "metadata": {},
   "outputs": [
    {
     "name": "stdout",
     "output_type": "stream",
     "text": [
      "GC Main Sequence : 0.5185185185185185\n",
      "Manual Methods : 0.5185185185185185\n"
     ]
    }
   ],
   "source": [
    "# GC Content -> Calculate percentage G and C in the DNA / RNA.\n",
    "\n",
    "# Deprecated Methods!\n",
    "\n",
    "# from Bio.SeqUtils import GC\n",
    "\n",
    "# gc_main_seq = GC(MAIN_SEQ)\n",
    "# print(f'GC Main Sequence : {gc_main_seq}')\n",
    "\n",
    "from Bio.SeqUtils import gc_fraction \n",
    "gc_main_seq = gc_fraction(MAIN_SEQ) \n",
    "print(f'GC Main Sequence : {gc_main_seq}')\n",
    "\n",
    "# Manual Methods\n",
    "def gc_content(input):\n",
    "    count_c = input.count('C')\n",
    "    count_g = input.count('G')\n",
    "    length = len(input)\n",
    "    return (count_c + count_g) / length\n",
    "\n",
    "print(f'GC Manual Methods : {gc_content(MAIN_SEQ)}')"
   ]
  },
  {
   "cell_type": "code",
   "execution_count": 17,
   "metadata": {},
   "outputs": [
    {
     "name": "stdout",
     "output_type": "stream",
     "text": [
      "Manual AT Content : 0.48148148148148145\n",
      "AT Content with GC Content : 0.4814814814814815\n"
     ]
    }
   ],
   "source": [
    "# AT Content -> Calculate percentage A and T in the DNA\n",
    "\n",
    "def at_content(input):\n",
    "    count_a = input.count('A')\n",
    "    count_t = input.count('T')\n",
    "    length = len(input)\n",
    "    return (count_a + count_t) / length\n",
    "\n",
    "print(f'Manual AT Content : {at_content(MAIN_SEQ)}')\n",
    "\n",
    "# AT Content using GC Content\n",
    "def at_content_using_gc(input):\n",
    "    return 1 - gc_content(input)\n",
    "\n",
    "print(f'AT Content with GC Content : {at_content_using_gc(MAIN_SEQ)}')"
   ]
  },
  {
   "cell_type": "code",
   "execution_count": 20,
   "metadata": {},
   "outputs": [
    {
     "name": "stdout",
     "output_type": "stream",
     "text": [
      "Wallace Melting Point : 82.0\n",
      "GC Melting Point : 58.939939109014944\n",
      "NN Melting Point : 59.28973077206433\n"
     ]
    }
   ],
   "source": [
    "from Bio.SeqUtils import MeltingTemp\n",
    "\n",
    "# Melting Points -> Get affected by GC Content\n",
    "# More GC Percentage then more DNA sequence will be stable\n",
    "\n",
    "# 3 Method to calculate Melting Points: \n",
    "\n",
    "# Tm_Wallace (Rule of Thumb) [Not very accurate becauase it's only basic foundation]\n",
    "# Tm_GC (Calculate based on GC) []\n",
    "# Tm_NN (Calculate based on n earest neighbor thermodynamics)\n",
    "\n",
    "# Tm_Wallace \n",
    "wallace_temp = MeltingTemp.Tm_Wallace(MAIN_SEQ)\n",
    "print(f'Wallace Melting Point : {wallace_temp}')\n",
    "\n",
    "# Tm_GC\n",
    "gc_temp = MeltingTemp.Tm_GC(MAIN_SEQ)\n",
    "print(f'GC Melting Point : {gc_temp}')\n",
    "\n",
    "# Tm_NN\n",
    "nn_temp = MeltingTemp.Tm_NN(MAIN_SEQ)\n",
    "print(f'NN Melting Point : {nn_temp}')\n",
    "\n"
   ]
  },
  {
   "attachments": {},
   "cell_type": "markdown",
   "metadata": {},
   "source": [
    "Base Theory : \n",
    "\n",
    "Molecular weight is the mass of a single molecule of a substance. It is measured in atomic mass units (amu)"
   ]
  },
  {
   "cell_type": "code",
   "execution_count": 22,
   "metadata": {},
   "outputs": [
    {
     "name": "stdout",
     "output_type": "stream",
     "text": [
      "Molecular Weight : 8364.3339\n"
     ]
    }
   ],
   "source": [
    "# Molecular Weight\n",
    "\n",
    "from Bio.SeqUtils import molecular_weight\n",
    "weight = molecular_weight(MAIN_SEQ)\n",
    "print(f'Molecular Weight : {weight}')"
   ]
  }
 ],
 "metadata": {
  "kernelspec": {
   "display_name": "Python 3",
   "language": "python",
   "name": "python3"
  },
  "language_info": {
   "codemirror_mode": {
    "name": "ipython",
    "version": 3
   },
   "file_extension": ".py",
   "mimetype": "text/x-python",
   "name": "python",
   "nbconvert_exporter": "python",
   "pygments_lexer": "ipython3",
   "version": "3.10.4"
  },
  "orig_nbformat": 4
 },
 "nbformat": 4,
 "nbformat_minor": 2
}
